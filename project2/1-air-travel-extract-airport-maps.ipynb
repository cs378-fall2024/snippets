{
  "cells": [
    {
      "cell_type": "markdown",
      "source": [
        "### Extract structured data from airport maps"
      ],
      "metadata": {
        "id": "YbqBDb_yB7_D"
      },
      "id": "YbqBDb_yB7_D"
    },
    {
      "cell_type": "markdown",
      "source": [
        "#### Helpful links:\n",
        "*   [Gemini SDK](https://cloud.google.com/vertex-ai/generative-ai/docs/reference/python/latest/vertexai.preview.generative_models)\n",
        "*   [GCS SDK](https://cloud.google.com/python/docs/reference/storage/latest)\n",
        "\n",
        "\n",
        "\n"
      ],
      "metadata": {
        "id": "QjOtFerwCE3T"
      },
      "id": "QjOtFerwCE3T"
    },
    {
      "cell_type": "code",
      "source": [
        "!pip install vertexai"
      ],
      "metadata": {
        "id": "d6kSBzWxByjT"
      },
      "id": "d6kSBzWxByjT",
      "execution_count": null,
      "outputs": []
    },
    {
      "cell_type": "code",
      "id": "kbwre1w57avRUcYWOu1aJ2PH",
      "metadata": {
        "tags": [],
        "id": "kbwre1w57avRUcYWOu1aJ2PH"
      },
      "source": [
        "import csv\n",
        "import vertexai\n",
        "from vertexai.generative_models import GenerativeModel, Part\n",
        "from pathlib import Path\n",
        "from google.cloud import storage\n",
        "from google.cloud.storage import transfer_manager\n",
        "\n",
        "project_id = \"cs378-fa2024\"\n",
        "region = \"us-central1\"\n",
        "bucket_name = \"air-travel-data\"\n",
        "gcs_in_folder = \"raw/airport-maps/in\"\n",
        "local_folder = \"out-csv\"\n",
        "gcs_out_folder = \"raw/airport-maps/out/\"\n",
        "model_name = \"gemini-1.5-flash-001\"\n",
        "prompt = \"\"\"what are all the businesses shown on this airport map? Be specific, extract the name of the business and assign it\n",
        "one or more categories. If it's a dining place, also return its top 3 menu items. Also, include which gates or other airport\n",
        "landmarks are nearest to the business.\n",
        "Return the output as json with the schema business:string, category:string, menu_items:list<string>, location:string.\n",
        "Do not include any other fields.\"\"\"\n",
        "\n",
        "def main():\n",
        "\n",
        "    vertexai.init(project=project_id, location=region)\n",
        "    model = GenerativeModel(model_name)\n",
        "    storage_client = storage.Client()\n",
        "    blobs = storage_client.list_blobs(bucket_name, prefix=gcs_in_folder)\n",
        "    records = []\n",
        "\n",
        "    for index, blob in enumerate(blobs):\n",
        "        print(blob.name)\n",
        "\n",
        "        airport_code = blob.name.split(\"/\")[3].split(\"-\")[0]\n",
        "        terminal = blob.name.split(\"/\")[3].split(\"-\")[2].split(\".\")[0]\n",
        "        print(f\"airport_code: {airport_code}\")\n",
        "        print(f\"terminal: {terminal}\")\n",
        "\n",
        "        # output file\n",
        "        csvfile = open(f\"{local_folder}/{airport_code}-{terminal}.csv\", \"w\", newline=\"\\n\")\n",
        "        writer = csv.writer(csvfile, delimiter=\"\\t\", quotechar=\"\\\"\", quoting=csv.QUOTE_MINIMAL)\n",
        "        writer.writerow([\"airport_code\", \"terminal\", \"business\", \"category\", \"location\", \"menu_items\"])\n",
        "\n",
        "        image_file = Part.from_uri(f\"gs://{bucket_name}/{blob.name}\", \"application/pdf\")\n",
        "        resp = model.generate_content([image_file, prompt])\n",
        "        resp_text = resp.text.replace(\"```json\", \"\").replace(\"```\", \"\").replace(\"\\n\", \"\")\n",
        "        payload_list = resp_text.split(\"},\")\n",
        "\n",
        "        for payload in payload_list:\n",
        "            print(\"payload:\", payload)\n",
        "\n",
        "            # business\n",
        "            business_start = payload.find(\"business\\\":\")\n",
        "            business_end = payload.find(\",\", business_start)\n",
        "            business = payload[business_start:business_end].replace(\"business\", \"\").replace(\":\", \"\").replace(\"\\\"\", \"\").strip()\n",
        "            #print(\"business:\", business)\n",
        "\n",
        "            # category\n",
        "            category_start = payload.find(\"category\\\":\")\n",
        "            category_end = payload.find(\",\", category_start)\n",
        "            category = payload[category_start:category_end].replace(\"category\", \"\").replace(\":\", \"\").replace(\"\\\"\", \"\").strip()\n",
        "            #print(\"category:\", category)\n",
        "\n",
        "            # menu items\n",
        "            menu_items_start = payload.find(\"menu_items\\\":\")\n",
        "            menu_items_end = payload.find(\"],\", menu_items_start)\n",
        "            menu_items = payload[menu_items_start:menu_items_end].replace(\"menu_items\", \"\").replace(\":\", \"\").replace(\"\\\"\", \"\").replace(\"[\", \"\").replace(\",      \", \",\").strip()\n",
        "\n",
        "            if menu_items == None:\n",
        "                menu_items = ''\n",
        "            #print(\"menu_items:\", menu_items)\n",
        "\n",
        "            # location\n",
        "            location_start = payload.find(\"location\\\":\")\n",
        "            location_end = payload.find(\",\", location_start)\n",
        "            location = payload[location_start:location_end].replace(\"location\", \"\").replace(\":\", \"\").replace(\"\\\"\", \"\").replace(\"}\", \"\").strip()\n",
        "            #print(\"location:\", location)\n",
        "\n",
        "            writer.writerow([airport_code, terminal, business, category, location, menu_items])\n",
        "\n",
        "        csvfile.close()\n",
        "\n",
        "\n",
        "def copy_to_GCS():\n",
        "\n",
        "    storage_client = storage.Client()\n",
        "    bucket = storage_client.bucket(bucket_name)\n",
        "\n",
        "    directory_as_path_obj = Path(local_folder)\n",
        "    file_paths = directory_as_path_obj.rglob(\"*.csv\")\n",
        "    relative_paths = [path.relative_to(local_folder) for path in file_paths]\n",
        "    string_paths = [str(path) for path in relative_paths]\n",
        "    print(\"Found {} files.\".format(string_paths))\n",
        "\n",
        "    results = transfer_manager.upload_many_from_filenames(bucket, string_paths, source_directory=local_folder, blob_name_prefix=gcs_out_folder, max_workers=5)\n",
        "\n",
        "    for name, result in zip(string_paths, results):\n",
        "\n",
        "        if isinstance(result, Exception):\n",
        "            print(\"Failed to upload {} due to exception: {}\".format(name, result))\n",
        "        else:\n",
        "            print(\"Uploaded {} to {}.\".format(name, bucket.name))\n",
        "\n",
        "\n",
        "if __name__ == \"__main__\":\n",
        "    main()\n",
        "    copy_to_GCS()"
      ],
      "execution_count": null,
      "outputs": []
    }
  ],
  "metadata": {
    "kernelspec": {
      "display_name": "Python 3",
      "language": "python",
      "name": "python3"
    },
    "language_info": {
      "codemirror_mode": {
        "name": "ipython",
        "version": 3
      },
      "file_extension": ".py",
      "mimetype": "text/x-python",
      "name": "python",
      "nbconvert_exporter": "python",
      "pygments_lexer": "ipython3",
      "version": "3.10.10"
    },
    "colab": {
      "provenance": [],
      "name": "1-air-travel-extract-airport-maps"
    }
  },
  "nbformat": 4,
  "nbformat_minor": 5
}