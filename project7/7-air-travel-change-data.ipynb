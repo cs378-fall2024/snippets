{
  "cells": [
    {
      "cell_type": "markdown",
      "source": [
        "### Load change records into the raw layer of the Air Travel warehouse"
      ],
      "metadata": {
        "id": "anm6v6_ni078"
      },
      "id": "anm6v6_ni078"
    },
    {
      "cell_type": "markdown",
      "source": [
        "\n",
        "##### Don't run this notebook before you have:\n",
        "*   copied your raw tables to the `inc_` dataset\n",
        "*   Ran the `orchestrate_first.sh` to create and populate the snapshot and model tables with the initial data.\n"
      ],
      "metadata": {
        "id": "Kw9XlFLqh-Ef"
      },
      "id": "Kw9XlFLqh-Ef"
    },
    {
      "cell_type": "markdown",
      "source": [
        "##### SDK documentation links (in case you need to modify the common function):\n",
        "*   [BQ Client](https://cloud.google.com/python/docs/reference/bigquery/latest/google.cloud.bigquery.client.Client)\n",
        "*   [LoadJobConfig](https://cloud.google.com/python/docs/reference/bigquery/latest/google.cloud.bigquery.job.LoadJobConfig)\n"
      ],
      "metadata": {
        "id": "XQfp_s3hWo1c"
      },
      "id": "XQfp_s3hWo1c"
    },
    {
      "cell_type": "markdown",
      "source": [
        "#### Common functions"
      ],
      "metadata": {
        "id": "dIpTO2xz-XIE"
      },
      "id": "dIpTO2xz-XIE"
    },
    {
      "cell_type": "code",
      "source": [
        "from google.cloud import bigquery\n",
        "\n",
        "project_id = \"cs378-fa2024\"\n",
        "bucket = \"air-travel-data\"\n",
        "parent_folder = \"incrementals\"\n",
        "region = \"us-central1\"\n",
        "dataset = \"inc_air_travel_raw\" # be sure to add the \"in_\" prefix\n",
        "\n",
        "bq_client = bigquery.Client()\n",
        "\n",
        "def load_table_from_csv(folder, file_name, table, schema, delimiter=\",\", quote_character=\"\\\"\"):\n",
        "\n",
        "  uri = f\"gs://{bucket}/{parent_folder}/{folder}/{file_name}\"\n",
        "  table_id = f\"{project_id}.{dataset}.{table}\"\n",
        "\n",
        "  job_config = bigquery.LoadJobConfig(\n",
        "        schema=schema,\n",
        "        skip_leading_rows=1,\n",
        "        source_format=bigquery.SourceFormat.CSV,\n",
        "        create_disposition=bigquery.CreateDisposition.CREATE_NEVER,\n",
        "        write_disposition=bigquery.WriteDisposition.WRITE_APPEND,\n",
        "        field_delimiter=delimiter,\n",
        "        quote_character=quote_character,\n",
        "        allow_jagged_rows=True,\n",
        "        ignore_unknown_values=True\n",
        "      )\n",
        "\n",
        "  load_job = bq_client.load_table_from_uri(uri, table_id, job_config=job_config)\n",
        "  load_job.result()\n",
        "\n",
        "  destination_table = bq_client.get_table(table_id)\n",
        "  print(\"Table has {} rows after load.\".format(destination_table.num_rows))"
      ],
      "metadata": {
        "id": "EXGnLdb9-agW",
        "executionInfo": {
          "status": "ok",
          "timestamp": 1731027848727,
          "user_tz": 360,
          "elapsed": 405,
          "user": {
            "displayName": "",
            "userId": ""
          }
        }
      },
      "id": "EXGnLdb9-agW",
      "execution_count": 7,
      "outputs": []
    },
    {
      "cell_type": "markdown",
      "source": [
        "#### Load `airports`\n",
        "##### Removed the `_load_time` and `_data_source` fields from the schema below because we are not creating a new table, just loading into **an** existing one"
      ],
      "metadata": {
        "id": "Y0Wiral9N4GO"
      },
      "id": "Y0Wiral9N4GO"
    },
    {
      "cell_type": "code",
      "source": [
        "folder = \"openflights\"\n",
        "file_name = \"airports_ext.csv\"\n",
        "table = \"airports\"\n",
        "delimiter = \",\"\n",
        "\n",
        "schema = [\n",
        "  bigquery.SchemaField(\"airport_id\", \"STRING\", mode=\"REQUIRED\"),\n",
        "  bigquery.SchemaField(\"airport_name\", \"STRING\", mode=\"REQUIRED\"),\n",
        "  bigquery.SchemaField(\"city\", \"STRING\", mode=\"REQUIRED\"),\n",
        "  bigquery.SchemaField(\"country\", \"STRING\", mode=\"REQUIRED\"),\n",
        "  bigquery.SchemaField(\"iata\", \"STRING\", mode=\"REQUIRED\"),\n",
        "  bigquery.SchemaField(\"icao\", \"STRING\", mode=\"REQUIRED\"),\n",
        "  bigquery.SchemaField(\"latitude\", \"BIGNUMERIC\", mode=\"REQUIRED\"),\n",
        "  bigquery.SchemaField(\"longitude\", \"BIGNUMERIC\", mode=\"REQUIRED\"),\n",
        "  bigquery.SchemaField(\"altitude\", \"INTEGER\", mode=\"REQUIRED\"),\n",
        "  bigquery.SchemaField(\"timezone\", \"STRING\", mode=\"REQUIRED\"),\n",
        "  bigquery.SchemaField(\"daylight_savings_time\", \"STRING\", mode=\"REQUIRED\"),\n",
        "  bigquery.SchemaField(\"tz_database_timezone\", \"STRING\", mode=\"REQUIRED\"),\n",
        "  bigquery.SchemaField(\"type\", \"STRING\", mode=\"REQUIRED\"),\n",
        "  bigquery.SchemaField(\"source\", \"STRING\", mode=\"REQUIRED\")\n",
        "]\n",
        "\n",
        "load_table_from_csv(folder, file_name, table, schema, delimiter)"
      ],
      "metadata": {
        "colab": {
          "base_uri": "https://localhost:8080/"
        },
        "id": "U_Wh1xhsTE9p",
        "executionInfo": {
          "status": "ok",
          "timestamp": 1731028245645,
          "user_tz": 360,
          "elapsed": 3218,
          "user": {
            "displayName": "",
            "userId": ""
          }
        },
        "outputId": "56f05185-4dfb-4751-feab-822f71bb8d13"
      },
      "id": "U_Wh1xhsTE9p",
      "execution_count": 8,
      "outputs": [
        {
          "output_type": "stream",
          "name": "stdout",
          "text": [
            "Table has 25336 rows after load.\n"
          ]
        }
      ]
    },
    {
      "cell_type": "markdown",
      "source": [
        "#### Load `airport_reviews`"
      ],
      "metadata": {
        "id": "l1CjL4vEWUpW"
      },
      "id": "l1CjL4vEWUpW"
    },
    {
      "cell_type": "code",
      "source": [
        "folder = \"our-airports\"\n",
        "file_name = \"airport-comments.tsv\"\n",
        "table = \"airport_reviews\"\n",
        "delimiter = \"\\t\"\n",
        "quote_character = \"'\"\n",
        "\n",
        "schema = [\n",
        "  bigquery.SchemaField(\"id\", \"INTEGER\", mode=\"REQUIRED\"),\n",
        "  bigquery.SchemaField(\"threadRef\", \"INTEGER\", mode=\"NULLABLE\"),\n",
        "  bigquery.SchemaField(\"airportRef\", \"INTEGER\", mode=\"NULLABLE\"),\n",
        "  bigquery.SchemaField(\"airportIdent\", \"STRING\", mode=\"NULLABLE\"),\n",
        "  bigquery.SchemaField(\"date\", \"DATETIME\", mode=\"NULLABLE\"),\n",
        "  bigquery.SchemaField(\"memberNickname\", \"STRING\", mode=\"NULLABLE\"),\n",
        "  bigquery.SchemaField(\"subject\", \"STRING\", mode=\"NULLABLE\"),\n",
        "  bigquery.SchemaField(\"body\", \"STRING\", mode=\"NULLABLE\")\n",
        "]\n",
        "\n",
        "load_table_from_csv(folder, file_name, table, schema, delimiter, quote_character)"
      ],
      "metadata": {
        "colab": {
          "base_uri": "https://localhost:8080/"
        },
        "id": "q80Hi4IGWVC4",
        "executionInfo": {
          "status": "ok",
          "timestamp": 1731028253477,
          "user_tz": 360,
          "elapsed": 3031,
          "user": {
            "displayName": "",
            "userId": ""
          }
        },
        "outputId": "ee24f334-dfb8-435b-9839-c3d972bd48c7"
      },
      "id": "q80Hi4IGWVC4",
      "execution_count": 9,
      "outputs": [
        {
          "output_type": "stream",
          "name": "stdout",
          "text": [
            "Table has 30942 rows after load.\n"
          ]
        }
      ]
    }
  ],
  "metadata": {
    "kernelspec": {
      "display_name": "Python 3",
      "language": "python",
      "name": "python3"
    },
    "language_info": {
      "codemirror_mode": {
        "name": "ipython",
        "version": 3
      },
      "file_extension": ".py",
      "mimetype": "text/x-python",
      "name": "python",
      "nbconvert_exporter": "python",
      "pygments_lexer": "ipython3",
      "version": "3.10.10"
    },
    "colab": {
      "provenance": [],
      "name": "7-air-travel-data-load"
    }
  },
  "nbformat": 4,
  "nbformat_minor": 5
}